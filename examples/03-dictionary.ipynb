{
 "cells": [
  {
   "cell_type": "code",
   "execution_count": 1,
   "metadata": {},
   "source": [
    "import cntext as ct\n",
    "import os\n",
    "\n",
    "sopmier = ct.SoPmi(cwd=os.getcwd(),\n",
    "                   input_txt_file='data/sopmi_corpus.txt',  #raw corpus data，txt file.only support chinese data now.\n",
    "                   seedword_txt_file='data/sopmi_seed_words.txt', #muanually selected seed words\n",
    "                  )   \n",
    "\n",
    "sopmier.sopmi()"
   ],
   "outputs": []
  },
  {
   "cell_type": "code",
   "execution_count": null,
   "metadata": {},
   "source": [],
   "outputs": []
  },
  {
   "cell_type": "code",
   "execution_count": 1,
   "metadata": {},
   "source": [
    "import cntext as ct\n",
    "import os\n",
    "\n",
    "\n",
    "#Init W2VModels. Support English and Chinese\n",
    "model = ct.W2VModels(cwd=os.getcwd(), \n",
    "                     lang='english')  #corpus data w2v_corpus.txt\n",
    "\n",
    "model.train(input_txt_file='data/w2v_corpus.txt', \n",
    "            ngram=True)\n",
    "\n",
    "# According to the seed word, filter out the top 100 words that are most similar to each category words\n",
    "model.find(seedword_txt_file='data/w2v_seeds/integrity.txt', \n",
    "           topn=100)\n",
    "model.find(seedword_txt_file='data/w2v_seeds/innovation.txt', \n",
    "           topn=100)\n",
    "model.find(seedword_txt_file='data/w2v_seeds/quality.txt', \n",
    "           topn=100)\n",
    "model.find(seedword_txt_file='data/w2v_seeds/respect.txt', \n",
    "           topn=100)\n",
    "model.find(seedword_txt_file='data/w2v_seeds/teamwork.txt', \n",
    "           topn=100)\n",
    "\n",
    "\n",
    "#保存词向量模型(txt文件)\n",
    "#该文件位于output/Glove/w2v_model.txt\n",
    "model.save(model_name='w2v_model')"
   ],
   "outputs": []
  },
  {
   "cell_type": "code",
   "execution_count": null,
   "metadata": {},
   "source": [],
   "outputs": []
  },
  {
   "cell_type": "markdown",
   "metadata": {},
   "source": [
    "## 需要注意\n",
    "\n",
    "训练出的w2v模型可以后续中使用。\n",
    "\n",
    "```python\n",
    "from gensim.models import KeyedVectors\n",
    "#\n",
    "#w2v_model = KeyedVectors.load(w2v.model路径)\n",
    "w2v_model = KeyedVectors.load_word2vec_format('output/Word2Vec/w2v_model.txt')\n",
    "\n",
    "#找出最相近的词\n",
    "#w2v_model.most_similar_cosmul(positive=['woman', 'king'], negative=['man'])\n",
    "#w2v_model.most_similar_cosmul(positive=['女人', '国王'], negative=['男人'])\n",
    "```"
   ]
  },
  {
   "cell_type": "code",
   "execution_count": 2,
   "metadata": {},
   "source": [
    "from gensim.models import KeyedVectors\n",
    "\n",
    "w2v_model = KeyedVectors.load_word2vec_format('output/Word2Vec/w2v_model.txt')"
   ],
   "outputs": []
  },
  {
   "cell_type": "code",
   "execution_count": null,
   "metadata": {},
   "source": [],
   "outputs": []
  },
  {
   "cell_type": "code",
   "execution_count": 1,
   "metadata": {},
   "source": [
    "import cntext as ct\n",
    "\n",
    "documents = [\"I go to school every day by bus .\",\n",
    "             \"i go to theatre every night by bus\"]\n",
    "\n",
    "ct.co_occurrence_matrix(documents, window_size=2, lang='english')"
   ],
   "outputs": []
  },
  {
   "cell_type": "code",
   "execution_count": 2,
   "metadata": {},
   "source": [
    "documents2 = [\"编程很好玩\",\n",
    "             \"Python是最好学的编程\"]\n",
    "\n",
    "ct.co_occurrence_matrix(documents2, window_size=2, lang='chinese')"
   ],
   "outputs": []
  },
  {
   "cell_type": "markdown",
   "metadata": {},
   "source": [
    "## Glove\n",
    "\n",
    "train the glove embeddings for ``data/brown_corpus.txt``"
   ]
  },
  {
   "cell_type": "code",
   "execution_count": 1,
   "metadata": {},
   "source": [
    "import cntext as ct \n",
    "\n",
    "help(ct.Glove)"
   ],
   "outputs": []
  },
  {
   "cell_type": "code",
   "execution_count": 2,
   "metadata": {},
   "source": [
    "import cntext as ct\n",
    "import os\n",
    "\n",
    "\n",
    "model = ct.Glove(cwd=os.getcwd(), lang='english')\n",
    "model.create_vocab(file='data/brown_corpus.txt', min_count=5)\n",
    "model.cooccurrence_matrix()\n",
    "model.train_embeddings(vector_size=50, max_iter=25)\n",
    "model.save(model_name='brown_glove')"
   ],
   "outputs": []
  },
  {
   "cell_type": "code",
   "execution_count": 26,
   "metadata": {},
   "source": [
    "import cntext as ct\n",
    "import os\n",
    "\n",
    "#设置语言和项目文件夹路径\n",
    "model = ct.Glove(cwd=os.getcwd(), lang='english')\n",
    "\n",
    "#导入语料\n",
    "model.create_vocab(file='data/santi.txt', min_count=5)\n",
    "\n",
    "#构建词语共现矩阵\n",
    "model.cooccurrence_matrix()\n",
    "\n",
    "#设置词嵌入模型的向量维度、迭代数\n",
    "model.train_embeddings(vector_size=50, max_iter=25)\n",
    "\n",
    "#存储模型\n",
    "model.save(model_name='santi_glove_model')"
   ],
   "outputs": []
  },
  {
   "cell_type": "markdown",
   "metadata": {},
   "source": [
    "导入刚刚训练好的glove模型"
   ]
  },
  {
   "cell_type": "code",
   "execution_count": 20,
   "metadata": {},
   "source": [
    "help(KeyedVectors.load_word2vec_format)"
   ],
   "outputs": []
  },
  {
   "cell_type": "code",
   "execution_count": 27,
   "metadata": {},
   "source": [
    "from gensim.models import KeyedVectors\n",
    "\n",
    "model = KeyedVectors.load_word2vec_format('output/Glove/santi_glove_model.txt', no_header=True)\n",
    "#model = KeyedVectors.load_word2vec_format('output/Glove/三体_glove_model.txt', no_header=True)\n",
    "model"
   ],
   "outputs": []
  },
  {
   "cell_type": "code",
   "execution_count": 28,
   "metadata": {},
   "source": [
    "model.get_vector('宇宙')"
   ],
   "outputs": []
  },
  {
   "cell_type": "code",
   "execution_count": null,
   "metadata": {},
   "source": [],
   "outputs": []
  }
 ],
 "metadata": {
  "kernelspec": {
   "display_name": "Python 3 (ipykernel)",
   "language": "python",
   "name": "python3"
  },
  "language_info": {
   "codemirror_mode": {
    "name": "ipython",
    "version": 3
   },
   "file_extension": ".py",
   "mimetype": "text/x-python",
   "name": "python",
   "nbconvert_exporter": "python",
   "pygments_lexer": "ipython3",
   "version": "3.11.5"
  },
  "toc": {
   "base_numbering": 1,
   "nav_menu": {},
   "number_sections": false,
   "sideBar": true,
   "skip_h1_title": false,
   "title_cell": "Table of Contents",
   "title_sidebar": "Contents",
   "toc_cell": false,
   "toc_position": {
    "height": "calc(100% - 180px)",
    "left": "10px",
    "top": "150px",
    "width": "336px"
   },
   "toc_section_display": true,
   "toc_window_display": true
  },
  "vscode": {
   "interpreter": {
    "hash": "39efd68f93e60613a22adb0a24f8974eb44aba5452699b12e52bf7b8f47c9669"
   }
  }
 },
 "nbformat": 4,
 "nbformat_minor": 4
}
