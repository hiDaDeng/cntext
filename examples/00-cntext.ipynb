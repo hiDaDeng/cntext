{
 "cells": [
  {
   "cell_type": "code",
   "execution_count": 1,
   "metadata": {
    "collapsed": true
   },
   "outputs": [
    {
     "name": "stdout",
     "output_type": "stream",
     "text": [
      "Help on package cntext:\n",
      "\n",
      "NAME\n",
      "    cntext\n",
      "\n",
      "PACKAGE CONTENTS\n",
      "    align\n",
      "    align2\n",
      "    io\n",
      "    mind\n",
      "    model\n",
      "    psymatrix\n",
      "    similarity\n",
      "    stats\n",
      "\n",
      "DATA\n",
      "    CONCEPTS_PAIRS = {'主观客观': {'neg': ['客观', '科学', '论证', '论据', '事实', '数据',...\n",
      "\n",
      "VERSION\n",
      "    2.0.0\n",
      "\n",
      "FILE\n",
      "    /Library/Frameworks/Python.framework/Versions/3.11/lib/python3.11/site-packages/cntext/__init__.py\n",
      "\n",
      "\n"
     ]
    }
   ],
   "source": [
    "import cntext as ct\n",
    "\n",
    "help(ct)"
   ]
  },
  {
   "cell_type": "code",
   "execution_count": 2,
   "metadata": {},
   "outputs": [
    {
     "name": "stdout",
     "output_type": "stream",
     "text": [
      "Help on module cntext.similarity in cntext:\n",
      "\n",
      "NAME\n",
      "    cntext.similarity - # -*- coding: utf-8 -*-\n",
      "\n",
      "FUNCTIONS\n",
      "    cosine_sim(text1, text2)\n",
      "        cosine similarity algorithm;\n",
      "        :param text1:  text string\n",
      "        :param text2:  text string\n",
      "        :return:\n",
      "    \n",
      "    jaccard_sim(text1, text2)\n",
      "        jaccard similarity algorithm;\n",
      "        :param text1:  text string\n",
      "        :param text2:  text string\n",
      "        :return:\n",
      "    \n",
      "    minedit_sim(text1, text2)\n",
      "        Minimum edit distance similarity algorithm;\n",
      "        :param text1:  text string\n",
      "        :param text2: text string\n",
      "        :return:\n",
      "    \n",
      "    simple_sim(text1, text2)\n",
      "        simple similarity algorithm;\n",
      "        Refer to the track change function in Microsoft Word and the diff function in Unix systems.\n",
      "        :param text1:  text string\n",
      "        :param text2: text string\n",
      "        :return:\n",
      "\n",
      "FILE\n",
      "    /Library/Frameworks/Python.framework/Versions/3.11/lib/python3.11/site-packages/cntext/similarity.py\n",
      "\n",
      "\n"
     ]
    }
   ],
   "source": [
    "import cntext as ct\n",
    "help(ct.similarity)"
   ]
  },
  {
   "cell_type": "code",
   "execution_count": null,
   "metadata": {},
   "outputs": [],
   "source": []
  }
 ],
 "metadata": {
  "kernelspec": {
   "display_name": "Python 3 (ipykernel)",
   "language": "python",
   "name": "python3"
  },
  "language_info": {
   "codemirror_mode": {
    "name": "ipython",
    "version": 3
   },
   "file_extension": ".py",
   "mimetype": "text/x-python",
   "name": "python",
   "nbconvert_exporter": "python",
   "pygments_lexer": "ipython3",
   "version": "3.11.5"
  },
  "toc": {
   "base_numbering": 1,
   "nav_menu": {},
   "number_sections": true,
   "sideBar": true,
   "skip_h1_title": false,
   "title_cell": "Table of Contents",
   "title_sidebar": "Contents",
   "toc_cell": false,
   "toc_position": {},
   "toc_section_display": true,
   "toc_window_display": false
  },
  "vscode": {
   "interpreter": {
    "hash": "39efd68f93e60613a22adb0a24f8974eb44aba5452699b12e52bf7b8f47c9669"
   }
  }
 },
 "nbformat": 4,
 "nbformat_minor": 4
}
