{
 "cells": [
  {
   "cell_type": "markdown",
   "id": "b6ee1938",
   "metadata": {},
   "source": [
    "[**Grand, G., Blank, I.A., Pereira, F. and Fedorenko, E., 2022. Semantic projection recovers rich human knowledge of multiple object features from word embeddings. _Nature Human Behaviour_, pp.1-13.m**](https://www.nature.com/articles/s41562-022-01316-8)"
   ]
  },
  {
   "cell_type": "code",
   "execution_count": 1,
   "id": "7f8a956c",
   "metadata": {
    "collapsed": true
   },
   "source": [
    "import cntext as ct\n",
    "\n",
    "help(ct.Text2Mind)"
   ],
   "outputs": []
  },
  {
   "cell_type": "markdown",
   "id": "cc08f1f7",
   "metadata": {},
   "source": [
    "glove_w2v.6B.100d.txt link\n",
    "- google driver https://drive.google.com/file/d/1tuQB9PDx42z67ScEQrg650aDTYPz-elJ/view?usp=sharing\n",
    "- baidu pan 链接: https://pan.baidu.com/s/1MMfQ7M0YCzL9Klp4zrlHBw 提取码: 72l0 "
   ]
  },
  {
   "cell_type": "code",
   "execution_count": 2,
   "id": "4ccb9bcf",
   "metadata": {},
   "source": [
    "tm = ct.Text2Mind(w2v_model_path='data/glove_w2v.6B.100d.txt')\n",
    "tm"
   ],
   "outputs": []
  },
  {
   "cell_type": "code",
   "execution_count": 3,
   "id": "d6456d1d",
   "metadata": {},
   "source": [
    "animals = ['mouse', 'cat', 'horse',  'pig', 'whale']\n",
    "smalls = [\"small\", \"little\", \"tiny\"]\n",
    "bigs = [\"large\", \"big\", \"huge\"]\n",
    "\n",
    "# In size conception, mouse is smallest, horse is biggest.\n",
    "# 在大小概念上，老鼠最小，马是最大的。\n",
    "tm.sematic_projection(words=animals, \n",
    "                      c_words1=smalls, \n",
    "                      c_words2=bigs)"
   ],
   "outputs": []
  },
  {
   "cell_type": "code",
   "execution_count": 4,
   "id": "012c3b8e",
   "metadata": {},
   "source": [
    "engineer = ['program', 'software', 'computer']\n",
    "mans =  [\"man\", \"he\", \"him\"]\n",
    "womans = [\"woman\", \"she\", \"her\"]\n",
    "\n",
    "#在语义空间中，工程师更接近于男人，而不是女人。\n",
    "#in semantic space, engineer is closer to man, other than woman.\n",
    "tm.sematic_distance(words=animals, \n",
    "                    c_words1=mans, \n",
    "                    c_words2=womans)"
   ],
   "outputs": []
  },
  {
   "cell_type": "code",
   "execution_count": null,
   "id": "bdddf0d1",
   "metadata": {},
   "source": [],
   "outputs": []
  },
  {
   "cell_type": "code",
   "execution_count": null,
   "id": "f4093d09",
   "metadata": {},
   "source": [],
   "outputs": []
  },
  {
   "cell_type": "code",
   "execution_count": null,
   "id": "71af654b",
   "metadata": {},
   "source": [],
   "outputs": []
  },
  {
   "cell_type": "code",
   "execution_count": null,
   "id": "2f897687",
   "metadata": {},
   "source": [],
   "outputs": []
  }
 ],
 "metadata": {
  "kernelspec": {
   "display_name": "Python 3 (ipykernel)",
   "language": "python",
   "name": "python3"
  },
  "language_info": {
   "codemirror_mode": {
    "name": "ipython",
    "version": 3
   },
   "file_extension": ".py",
   "mimetype": "text/x-python",
   "name": "python",
   "nbconvert_exporter": "python",
   "pygments_lexer": "ipython3",
   "version": "3.9.7"
  },
  "toc": {
   "base_numbering": 1,
   "nav_menu": {},
   "number_sections": true,
   "sideBar": true,
   "skip_h1_title": false,
   "title_cell": "Table of Contents",
   "title_sidebar": "Contents",
   "toc_cell": false,
   "toc_position": {},
   "toc_section_display": true,
   "toc_window_display": false
  }
 },
 "nbformat": 4,
 "nbformat_minor": 5
}
